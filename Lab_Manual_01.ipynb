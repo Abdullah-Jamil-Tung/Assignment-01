{
  "nbformat": 4,
  "nbformat_minor": 0,
  "metadata": {
    "colab": {
      "provenance": [],
      "authorship_tag": "ABX9TyOBPEOyjF1nIZieE4m7+g2O",
      "include_colab_link": true
    },
    "kernelspec": {
      "name": "python3",
      "display_name": "Python 3"
    },
    "language_info": {
      "name": "python"
    }
  },
  "cells": [
    {
      "cell_type": "markdown",
      "metadata": {
        "id": "view-in-github",
        "colab_type": "text"
      },
      "source": [
        "<a href=\"https://colab.research.google.com/github/Abdullah-Jamil-Tung/Assignment-01/blob/main/Lab_Manual_01.ipynb\" target=\"_parent\"><img src=\"https://colab.research.google.com/assets/colab-badge.svg\" alt=\"Open In Colab\"/></a>"
      ]
    },
    {
      "cell_type": "code",
      "execution_count": 39,
      "metadata": {
        "colab": {
          "base_uri": "https://localhost:8080/"
        },
        "id": "Ptq5sNFKqqSy",
        "outputId": "c91eff19-2d64-4ed3-e7cd-ee82ac27ec16"
      },
      "outputs": [
        {
          "output_type": "stream",
          "name": "stdout",
          "text": [
            "for x = 1 , exp =  14\n",
            "for x = 2 , exp =  60\n",
            "for x = 3 , exp =  164\n",
            "for x = 4 , exp =  350\n",
            "for x = 5 , exp =  642\n"
          ]
        }
      ],
      "source": [
        "for x in range(1,6):\n",
        "  exp_1 = 4*x**3 + 5*x**2 + 3*x + 2\n",
        "  print(\"for x =\",x,\", exp = \",exp_1 )"
      ]
    },
    {
      "cell_type": "code",
      "source": [
        "for x in range(1,6):\n",
        "  exp_2 = (3*x**2 + 7*x)/2 - 2*x/5\n",
        "  print(\"for x =\",x,\", exp = \",exp_2 )"
      ],
      "metadata": {
        "colab": {
          "base_uri": "https://localhost:8080/"
        },
        "id": "TEAXDVHf0Xww",
        "outputId": "454ae8cf-a322-4a52-f2cf-511c606fdc2f"
      },
      "execution_count": 40,
      "outputs": [
        {
          "output_type": "stream",
          "name": "stdout",
          "text": [
            "for x = 1 , exp =  4.6\n",
            "for x = 2 , exp =  12.2\n",
            "for x = 3 , exp =  22.8\n",
            "for x = 4 , exp =  36.4\n",
            "for x = 5 , exp =  53.0\n"
          ]
        }
      ]
    },
    {
      "cell_type": "code",
      "source": [
        "#Declaring variables and taking inputs\n",
        "a = input(\"Enter the first number = \")\n",
        "b = input(\"Enter the second number = \")\n",
        "\n",
        "#Explicit conversion from string to int\n",
        "a = int(a)\n",
        "b = int(b)\n",
        "print(\"\\n\")\n",
        "\n",
        "#Checking using if-statements\n",
        "if not a % b :\n",
        "  print(\"The first number is a multiple of the second number.\\n\")\n",
        "\n",
        "else :\n",
        "  print(\"The first number is not a multiple of the second number.\\n\")"
      ],
      "metadata": {
        "colab": {
          "base_uri": "https://localhost:8080/"
        },
        "id": "IcNb3FjD8ooq",
        "outputId": "33728a0b-e825-4629-a7c5-7ca40e6cb77a"
      },
      "execution_count": 46,
      "outputs": [
        {
          "output_type": "stream",
          "name": "stdout",
          "text": [
            "Enter the first number = 50\n",
            "Enter the second number = 5\n",
            "\n",
            "\n",
            "The first number is a multiple of the second number.\n",
            "\n"
          ]
        }
      ]
    },
    {
      "cell_type": "code",
      "source": [],
      "metadata": {
        "id": "k0njKvFRF5By"
      },
      "execution_count": null,
      "outputs": []
    }
  ]
}