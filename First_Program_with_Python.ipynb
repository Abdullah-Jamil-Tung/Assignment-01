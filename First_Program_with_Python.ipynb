{
  "nbformat": 4,
  "nbformat_minor": 0,
  "metadata": {
    "colab": {
      "provenance": [],
      "authorship_tag": "ABX9TyPLVT3EdQpPKtPc8VImapdN",
      "include_colab_link": true
    },
    "kernelspec": {
      "name": "python3",
      "display_name": "Python 3"
    },
    "language_info": {
      "name": "python"
    }
  },
  "cells": [
    {
      "cell_type": "markdown",
      "metadata": {
        "id": "view-in-github",
        "colab_type": "text"
      },
      "source": [
        "<a href=\"https://colab.research.google.com/github/Abdullah-Jamil-Tung/Assignment-01/blob/main/First_Program_with_Python.ipynb\" target=\"_parent\"><img src=\"https://colab.research.google.com/assets/colab-badge.svg\" alt=\"Open In Colab\"/></a>"
      ]
    },
    {
      "cell_type": "code",
      "execution_count": 11,
      "metadata": {
        "colab": {
          "base_uri": "https://localhost:8080/"
        },
        "id": "nlY9RLedCELJ",
        "outputId": "fe6deea2-bacc-4ae3-c76a-12f47289d4db"
      },
      "outputs": [
        {
          "output_type": "stream",
          "name": "stdout",
          "text": [
            "Hello\n",
            "Enter a number = 10\n",
            "The product of 5 and 10 is 50 .\n"
          ]
        }
      ],
      "source": [
        "print(\"Hello\")\n",
        "i = int(input(\"Enter a number = \"))\n",
        "print(\"The product of 5 and\",i,\"is\",5*i,\".\")"
      ]
    }
  ]
}